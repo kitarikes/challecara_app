{
  "nbformat": 4,
  "nbformat_minor": 0,
  "metadata": {
    "colab": {
      "name": "Untitled3.ipynb",
      "provenance": [],
      "collapsed_sections": [],
      "include_colab_link": true
    },
    "kernelspec": {
      "name": "python3",
      "display_name": "Python 3"
    }
  },
  "cells": [
    {
      "cell_type": "markdown",
      "metadata": {
        "id": "view-in-github",
        "colab_type": "text"
      },
      "source": [
        "<a href=\"https://colab.research.google.com/github/kitarikes/challecara_app/blob/master/Untitled3.ipynb\" target=\"_parent\"><img src=\"https://colab.research.google.com/assets/colab-badge.svg\" alt=\"Open In Colab\"/></a>"
      ]
    },
    {
      "cell_type": "code",
      "metadata": {
        "id": "1D_2hELZFm5y",
        "colab_type": "code",
        "colab": {
          "base_uri": "https://localhost:8080/",
          "height": 71
        },
        "outputId": "97c1e4f6-b701-4c91-ceeb-10efc9036c5c"
      },
      "source": [
        "import math\n",
        "def f(x):\n",
        "  y = 1-x\n",
        "  H = x*(-math.log2(x)) + y*(-math.log2(y))\n",
        "  return H\n",
        "#2\n",
        "print (\"a:\",f(1/32))\n",
        "print(\"b:\",f(16/32))\n",
        "print(\"c:\",f(28/32))"
      ],
      "execution_count": 6,
      "outputs": [
        {
          "output_type": "stream",
          "text": [
            "a: 0.20062232431271465\n",
            "b: 1.0\n",
            "c: 0.5435644431995964\n"
          ],
          "name": "stdout"
        }
      ]
    },
    {
      "cell_type": "code",
      "metadata": {
        "id": "M1ZijMCWHTrR",
        "colab_type": "code",
        "colab": {}
      },
      "source": [
        "def g(x, y, z, a):\n",
        "  b = 1-a\n",
        "  H_2 = f(x)- (a*f(y)+b*f(z))\n",
        "  return H_2\n"
      ],
      "execution_count": 0,
      "outputs": []
    },
    {
      "cell_type": "code",
      "metadata": {
        "id": "00DZyVSZIumY",
        "colab_type": "code",
        "colab": {
          "base_uri": "https://localhost:8080/",
          "height": 35
        },
        "outputId": "5afb802f-4825-4420-bc63-a94ab48d6f2d"
      },
      "source": [
        "#3\n",
        "print(g(24/31, 21/23, 3/8, 23/31))"
      ],
      "execution_count": 8,
      "outputs": [
        {
          "output_type": "stream",
          "text": [
            "0.2080893553524228\n"
          ],
          "name": "stdout"
        }
      ]
    }
  ]
}